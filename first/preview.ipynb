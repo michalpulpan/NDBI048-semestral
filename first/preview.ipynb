{
 "cells": [
  {
   "cell_type": "code",
   "execution_count": 6,
   "metadata": {},
   "outputs": [
    {
     "data": {
      "text/plain": [
       "6246"
      ]
     },
     "execution_count": 6,
     "metadata": {},
     "output_type": "execute_result"
    }
   ],
   "source": [
    "import pandas as pd\n",
    "\n",
    "# let's see content of main aggregation file\n",
    "df = pd.read_csv('geodata/census11_21/data_obce_vyhl_nevyhl.csv', sep=',')\n",
    "df2 = pd.read_csv('geodata/obce_agregace.csv', sep=';')\n",
    "\n",
    "# get only rows with 'OBEC_NAZEV' = 'Hradec Kralove'\n",
    "# df = df[df['OBEC_NAZEV'] == 'Hradec Králové']\n",
    "# df.head()\n",
    "# get all values from 'OBEC_NAZEV' column and count them\n",
    "df['OBEC_KOD'].count()\n",
    "\n",
    "# df['domy_vlast_obec_stat_mean']\n",
    "# df.head()\n",
    "# df['OBEC_KOD'].value_counts()"
   ]
  },
  {
   "cell_type": "code",
   "execution_count": null,
   "metadata": {},
   "outputs": [],
   "source": []
  }
 ],
 "metadata": {
  "kernelspec": {
   "display_name": "Python 3.9.10 64-bit",
   "language": "python",
   "name": "python3"
  },
  "language_info": {
   "codemirror_mode": {
    "name": "ipython",
    "version": 3
   },
   "file_extension": ".py",
   "mimetype": "text/x-python",
   "name": "python",
   "nbconvert_exporter": "python",
   "pygments_lexer": "ipython3",
   "version": "3.9.10"
  },
  "orig_nbformat": 4,
  "vscode": {
   "interpreter": {
    "hash": "b0fa6594d8f4cbf19f97940f81e996739fb7646882a419484c72d19e05852a7e"
   }
  }
 },
 "nbformat": 4,
 "nbformat_minor": 2
}
