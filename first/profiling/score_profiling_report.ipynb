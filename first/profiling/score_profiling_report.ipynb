{
 "cells": [
  {
   "cell_type": "code",
   "execution_count": 4,
   "metadata": {},
   "outputs": [
    {
     "name": "stderr",
     "output_type": "stream",
     "text": [
      "Summarize dataset: 100%|██████████| 67/67 [00:05<00:00, 13.32it/s, Completed]                                       \n",
      "Generate report structure: 100%|██████████| 1/1 [00:02<00:00,  2.30s/it]\n",
      "Render HTML: 100%|██████████| 1/1 [00:01<00:00,  1.16s/it]\n",
      "Export report to file: 100%|██████████| 1/1 [00:00<00:00, 232.60it/s]\n"
     ]
    }
   ],
   "source": [
    "import pandas as pd\n",
    "from pandas_profiling import ProfileReport\n",
    "\n",
    "score_df = pd.read_csv('../../geodata/score/obce_skore_rizikovosti.csv', sep=';')\n",
    "score_df = score_df.rename(columns={'oD': 'pocet_obyvatel', 'oD.cat': 'pocet_obyvatel_kat', 'rb': 'podil_bankrotu_vyhl', 'rb.raw': 'podil_bankrotu_raw', 're': 'podil_exekuci_vyhl', 're.raw': 'podil_execkuci_raw'})\n",
    "score_profile = ProfileReport(score_df, title='Skore rizikovosti obcí', correlations={\n",
    "        \"auto\": {\"calculate\": False},\n",
    "        \"pearson\": {\"calculate\": False},\n",
    "        \"spearman\": {\"calculate\": False},\n",
    "        \"kendall\": {\"calculate\": False},\n",
    "        \"phi_k\": {\"calculate\": False},\n",
    "        \"cramers\": {\"calculate\": False},\n",
    "    })\n",
    "score_profile.to_file(output_file=\"score.html\")"
   ]
  }
 ],
 "metadata": {
  "kernelspec": {
   "display_name": "Python 3.9.10 64-bit",
   "language": "python",
   "name": "python3"
  },
  "language_info": {
   "codemirror_mode": {
    "name": "ipython",
    "version": 3
   },
   "file_extension": ".py",
   "mimetype": "text/x-python",
   "name": "python",
   "nbconvert_exporter": "python",
   "pygments_lexer": "ipython3",
   "version": "3.9.10"
  },
  "orig_nbformat": 4,
  "vscode": {
   "interpreter": {
    "hash": "b0fa6594d8f4cbf19f97940f81e996739fb7646882a419484c72d19e05852a7e"
   }
  }
 },
 "nbformat": 4,
 "nbformat_minor": 2
}
