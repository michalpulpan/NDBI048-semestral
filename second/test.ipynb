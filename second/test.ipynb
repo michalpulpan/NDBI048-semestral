{
 "cells": [
  {
   "cell_type": "code",
   "execution_count": 2,
   "metadata": {},
   "outputs": [],
   "source": [
    "import pandas as pd\n",
    "from pandas.api.types import CategoricalDtype\n",
    "import numpy as np\n",
    "import matplotlib.pyplot as plt\n",
    "import seaborn as sns\n",
    "\n",
    "plt.rcParams['figure.figsize'] = (12, 9)\n",
    "sns.set_theme(style=\"darkgrid\", color_codes=True)\n",
    "\n",
    "# Read in the data\n",
    "df_census = pd.read_csv('../geodata/census11_21/data_obce_vyhl_nevyhl.csv', sep=',')\n",
    "df_volby = pd.read_csv('../geodata/volby/volby_obce_agregace.csv', sep=',')\n",
    "\n",
    "df_dluhy = pd.read_csv('../geodata/score/obce_skore_rizikovosti.csv', sep=';')\n",
    "# rename df_dluhy['OBEC] to df_dluhy['OBEC_KOD']\n",
    "df_dluhy = df_dluhy.rename(columns={'OBEC': 'OBEC_KOD'})\n",
    "df = pd.merge(df_census, df_dluhy, on='OBEC_KOD', how='inner')\n",
    "df = pd.merge(df, df_volby, on='OBEC_KOD', how='inner')\n",
    "df = df.rename(columns={'OBEC_KOD': 'kod_obec', 'vzdelani_bez_mean': 'Bez vzdělání', 'vzdelani_zakl_mean': 'Základní vzdělání', 'vzdelani_str_bm_mean': 'Středoškolské vzdělání bez maturity', 'vzdelani_str_np_mean': 'Středoškolské vzdělání s maturitou', 'vzdelani_vo_mean': 'Vyšší odborné vzdělání', 'vzdelani_vys_mean': 'Vysokoškolské vzdělání'  })\n",
    "\n",
    "# oD.cat -> into categorical value\n",
    "size_cat_type = CategoricalDtype(categories=[\"0-100\", \"100-200\", \"200-500\", \"500-1k\", \"1-2k\", \"2-5k\", \"5-20k\", \"20-50k\", \"50-200k\", \"200k+\"], ordered=True)\n",
    "df['oD.cat'] = df['oD.cat'].astype(size_cat_type)"
   ]
  },
  {
   "cell_type": "code",
   "execution_count": 8,
   "metadata": {},
   "outputs": [
    {
     "data": {
      "text/html": [
       "<div>\n",
       "<style scoped>\n",
       "    .dataframe tbody tr th:only-of-type {\n",
       "        vertical-align: middle;\n",
       "    }\n",
       "\n",
       "    .dataframe tbody tr th {\n",
       "        vertical-align: top;\n",
       "    }\n",
       "\n",
       "    .dataframe thead th {\n",
       "        text-align: right;\n",
       "    }\n",
       "</style>\n",
       "<table border=\"1\" class=\"dataframe\">\n",
       "  <thead>\n",
       "    <tr style=\"text-align: right;\">\n",
       "      <th></th>\n",
       "      <th>OBEC</th>\n",
       "      <th>OBEC_KOD</th>\n",
       "      <th>OKRES</th>\n",
       "      <th>oD</th>\n",
       "      <th>oD.cat</th>\n",
       "      <th>rb</th>\n",
       "      <th>rb.raw</th>\n",
       "      <th>re</th>\n",
       "      <th>re.raw</th>\n",
       "      <th>score</th>\n",
       "    </tr>\n",
       "  </thead>\n",
       "  <tbody>\n",
       "    <tr>\n",
       "      <th>6231</th>\n",
       "      <td>Nový Dvůr</td>\n",
       "      <td>599654</td>\n",
       "      <td>Nymburk</td>\n",
       "      <td>61.666667</td>\n",
       "      <td>0-100</td>\n",
       "      <td>0.01113</td>\n",
       "      <td>0.00973</td>\n",
       "      <td>0.159963</td>\n",
       "      <td>0.159963</td>\n",
       "      <td>0.018288</td>\n",
       "    </tr>\n",
       "  </tbody>\n",
       "</table>\n",
       "</div>"
      ],
      "text/plain": [
       "           OBEC  OBEC_KOD    OKRES         oD oD.cat       rb   rb.raw  \\\n",
       "6231  Nový Dvůr    599654  Nymburk  61.666667  0-100  0.01113  0.00973   \n",
       "\n",
       "            re    re.raw     score  \n",
       "6231  0.159963  0.159963  0.018288  "
      ]
     },
     "execution_count": 8,
     "metadata": {},
     "output_type": "execute_result"
    }
   ],
   "source": [
    "# get only comuns from df_dluhy on OBEC_KOD = 566926\n",
    "df_dluhy2 = df_dluhy[df_dluhy['OBEC_KOD'] == 599654]\n",
    "df_dluhy2"
   ]
  }
 ],
 "metadata": {
  "kernelspec": {
   "display_name": "env",
   "language": "python",
   "name": "python3"
  },
  "language_info": {
   "codemirror_mode": {
    "name": "ipython",
    "version": 3
   },
   "file_extension": ".py",
   "mimetype": "text/x-python",
   "name": "python",
   "nbconvert_exporter": "python",
   "pygments_lexer": "ipython3",
   "version": "3.9.10 (main, Jan 15 2022, 11:40:53) \n[Clang 13.0.0 (clang-1300.0.29.3)]"
  },
  "orig_nbformat": 4,
  "vscode": {
   "interpreter": {
    "hash": "c9e137fc6af4ae8e8202ee2eb9e827492ef020c1db764316529edbfafa337616"
   }
  }
 },
 "nbformat": 4,
 "nbformat_minor": 2
}
