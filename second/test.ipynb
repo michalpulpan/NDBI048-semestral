{
 "cells": [
  {
   "cell_type": "code",
   "execution_count": 2,
   "metadata": {},
   "outputs": [],
   "source": [
    "import pandas as pd\n",
    "from pandas.api.types import CategoricalDtype\n",
    "import numpy as np\n",
    "import matplotlib.pyplot as plt\n",
    "import seaborn as sns\n",
    "\n",
    "plt.rcParams['figure.figsize'] = (12, 9)\n",
    "sns.set_theme(style=\"darkgrid\", color_codes=True)\n",
    "\n",
    "# Read in the data\n",
    "df_census = pd.read_csv('../geodata/census11_21/data_obce_vyhl_nevyhl.csv', sep=',')\n",
    "df_dluhy = pd.read_csv('../geodata/score/obce_skore_rizikovosti.csv', sep=';')\n",
    "df = pd.merge(df_census, df_dluhy, on='OBEC_KOD', how='inner')    \n",
    "df = df.rename(columns={'OBEC_KOD': 'kod_obec', 'vzdelani_bez_mean': 'Bez vzdělání', 'vzdelani_zakl_mean': 'Základní vzdělání', 'vzdelani_str_bm_mean': 'Středoškolské vzdělání bez maturity', 'vzdelani_str_np_mean': 'Středoškolské vzdělání s maturitou', 'vzdelani_vo_mean': 'Vyšší odborné vzdělání', 'vzdelani_vys_mean': 'Vysokoškolské vzdělání'  })\n",
    "\n",
    "# oD.cat -> into categorical value\n",
    "size_cat_type = CategoricalDtype(categories=[\"0-100\", \"100-200\", \"200-500\", \"500-1k\", \"1-2k\", \"2-5k\", \"5-20k\", \"20-50k\", \"50-200k\", \"200k+\"], ordered=True)\n",
    "df['oD.cat'] = df['oD.cat'].astype(size_cat_type)"
   ]
  },
  {
   "cell_type": "code",
   "execution_count": 6,
   "metadata": {},
   "outputs": [],
   "source": [
    "# get only comuns from df_dluhy on OBEC_KOD = 566926\n",
    "df_dluhy2 = df_dluhy[df_dluhy['OBEC_KOD'] == 566926]\n",
    "df_dluhy2"
   ]
  }
 ],
 "metadata": {
  "kernelspec": {
   "display_name": "env",
   "language": "python",
   "name": "python3"
  },
  "language_info": {
   "codemirror_mode": {
    "name": "ipython",
    "version": 3
   },
   "file_extension": ".py",
   "mimetype": "text/x-python",
   "name": "python",
   "nbconvert_exporter": "python",
   "pygments_lexer": "ipython3",
   "version": "3.9.10"
  },
  "orig_nbformat": 4,
  "vscode": {
   "interpreter": {
    "hash": "c9e137fc6af4ae8e8202ee2eb9e827492ef020c1db764316529edbfafa337616"
   }
  }
 },
 "nbformat": 4,
 "nbformat_minor": 2
}
