{
 "cells": [
  {
   "cell_type": "code",
   "execution_count": 32,
   "metadata": {},
   "outputs": [
    {
     "data": {
      "text/html": [
       "<div>\n",
       "<style scoped>\n",
       "    .dataframe tbody tr th:only-of-type {\n",
       "        vertical-align: middle;\n",
       "    }\n",
       "\n",
       "    .dataframe tbody tr th {\n",
       "        vertical-align: top;\n",
       "    }\n",
       "\n",
       "    .dataframe thead th {\n",
       "        text-align: right;\n",
       "    }\n",
       "</style>\n",
       "<table border=\"1\" class=\"dataframe\">\n",
       "  <thead>\n",
       "    <tr style=\"text-align: right;\">\n",
       "      <th></th>\n",
       "      <th>OBEC</th>\n",
       "      <th>oD</th>\n",
       "      <th>oD.cat</th>\n",
       "      <th>score</th>\n",
       "      <th>oD.ccat</th>\n",
       "      <th>PERC_KDU-CSL_2017_b</th>\n",
       "      <th>PERC_SPOLU_2021_b</th>\n",
       "      <th>PERC_ANO_2021_b</th>\n",
       "      <th>PERC_PAFI_K1_2018_b</th>\n",
       "      <th>PERC_MIZE_K1_2018_b</th>\n",
       "      <th>PERC_MIZE_K2_2018_b</th>\n",
       "      <th>PERC_JIDR_K2_2018_b</th>\n",
       "      <th>PERC_DOCHAZKA_2018_K1_b</th>\n",
       "      <th>PERC_DOCHAZKA_2018_K2_b</th>\n",
       "      <th>PERC_DOCHAZKA_2017_b</th>\n",
       "      <th>PERC_DOCHAZKA_2021_b</th>\n",
       "    </tr>\n",
       "  </thead>\n",
       "  <tbody>\n",
       "    <tr>\n",
       "      <th>3680</th>\n",
       "      <td>569917</td>\n",
       "      <td>2031.866667</td>\n",
       "      <td>2-5k</td>\n",
       "      <td>0.010408</td>\n",
       "      <td>1-10k</td>\n",
       "      <td>0.07529</td>\n",
       "      <td>0.338308</td>\n",
       "      <td>0.22908</td>\n",
       "      <td>0.151999</td>\n",
       "      <td>0.323455</td>\n",
       "      <td>0.464385</td>\n",
       "      <td>0.535615</td>\n",
       "      <td>0.682295</td>\n",
       "      <td>0.733977</td>\n",
       "      <td>0.644615</td>\n",
       "      <td>0.730718</td>\n",
       "    </tr>\n",
       "  </tbody>\n",
       "</table>\n",
       "</div>"
      ],
      "text/plain": [
       "        OBEC           oD oD.cat     score oD.ccat  PERC_KDU-CSL_2017_b  \\\n",
       "3680  569917  2031.866667   2-5k  0.010408   1-10k              0.07529   \n",
       "\n",
       "      PERC_SPOLU_2021_b  PERC_ANO_2021_b  PERC_PAFI_K1_2018_b  \\\n",
       "3680           0.338308          0.22908             0.151999   \n",
       "\n",
       "      PERC_MIZE_K1_2018_b  PERC_MIZE_K2_2018_b  PERC_JIDR_K2_2018_b  \\\n",
       "3680             0.323455             0.464385             0.535615   \n",
       "\n",
       "      PERC_DOCHAZKA_2018_K1_b  PERC_DOCHAZKA_2018_K2_b  PERC_DOCHAZKA_2017_b  \\\n",
       "3680                 0.682295                 0.733977              0.644615   \n",
       "\n",
       "      PERC_DOCHAZKA_2021_b  \n",
       "3680              0.730718  "
      ]
     },
     "execution_count": 32,
     "metadata": {},
     "output_type": "execute_result"
    }
   ],
   "source": [
    "import pandas as pd\n",
    "\n",
    "# let's see content of main aggregation file\n",
    "df = pd.read_csv('geodata/census11_21/data_obce_vyhl_nevyhl.csv', sep=',')\n",
    "df2 = pd.read_csv('geodata/obce_agregace.csv', sep=';')\n",
    "\n",
    "# get only rows with 'OBEC_NAZEV' = 'Hradec Kralove'\n",
    "# df = df[df['OBEC_NAZEV'] == 'Hradec Králové']\n",
    "# df.head()\n",
    "# get all values from 'OBEC_NAZEV' column and count them\n",
    "# df['OBEC_NAZEV'].value_counts()\n",
    "df = df[df['OBEC_KOD'] == 569917]\n",
    "df2 = df2[df2['OBEC'] == 569917]\n",
    "df2.head()\n",
    "# df['domy_vlast_obec_stat_mean']\n",
    "# df.head()\n",
    "# df['OBEC_KOD'].value_counts()"
   ]
  },
  {
   "cell_type": "code",
   "execution_count": null,
   "metadata": {},
   "outputs": [],
   "source": []
  }
 ],
 "metadata": {
  "kernelspec": {
   "display_name": "Python 3.9.10 64-bit",
   "language": "python",
   "name": "python3"
  },
  "language_info": {
   "codemirror_mode": {
    "name": "ipython",
    "version": 3
   },
   "file_extension": ".py",
   "mimetype": "text/x-python",
   "name": "python",
   "nbconvert_exporter": "python",
   "pygments_lexer": "ipython3",
   "version": "3.9.10"
  },
  "orig_nbformat": 4,
  "vscode": {
   "interpreter": {
    "hash": "b0fa6594d8f4cbf19f97940f81e996739fb7646882a419484c72d19e05852a7e"
   }
  }
 },
 "nbformat": 4,
 "nbformat_minor": 2
}
